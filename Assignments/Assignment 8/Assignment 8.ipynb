{
 "cells": [
  {
   "cell_type": "code",
   "execution_count": 1,
   "id": "430f7690",
   "metadata": {},
   "outputs": [],
   "source": [
    "import numpy as np # Working with vectors and arrays\n",
    "#import matplotlib \n",
    "import matplotlib.pyplot as plt # Standard module for plotting and visualization\n",
    "#import scipy as sp \n",
    "import scipy.stats as stats # Scientific algorithms & basic statistics\n",
    "import pandas as pd # Adds DataFrames to Python (powerful spreadsheets)\n",
    "import seaborn as sns # Visualization of statistical data\n",
    "import statsmodels.formula.api as sm # Provides classes and functions for many statistical models\n",
    "from statsmodels.stats import power # Statistical power test\n",
    "import statistics as s"
   ]
  },
  {
   "cell_type": "markdown",
   "id": "82161562",
   "metadata": {},
   "source": [
    "# Task 39 "
   ]
  },
  {
   "cell_type": "code",
   "execution_count": null,
   "id": "efcb704d",
   "metadata": {},
   "outputs": [],
   "source": [
    "data = 'SUVLease.xlsx'\n",
    "data = pd.read_excel(data)\n",
    "display(data)"
   ]
  },
  {
   "cell_type": "markdown",
   "id": "ae2db04c",
   "metadata": {},
   "source": [
    "# Task 46"
   ]
  },
  {
   "cell_type": "code",
   "execution_count": 10,
   "id": "72b209a6",
   "metadata": {},
   "outputs": [
    {
     "data": {
      "text/html": [
       "<div>\n",
       "<style scoped>\n",
       "    .dataframe tbody tr th:only-of-type {\n",
       "        vertical-align: middle;\n",
       "    }\n",
       "\n",
       "    .dataframe tbody tr th {\n",
       "        vertical-align: top;\n",
       "    }\n",
       "\n",
       "    .dataframe thead th {\n",
       "        text-align: right;\n",
       "    }\n",
       "</style>\n",
       "<table border=\"1\" class=\"dataframe\">\n",
       "  <thead>\n",
       "    <tr style=\"text-align: right;\">\n",
       "      <th></th>\n",
       "      <th>Under 30</th>\n",
       "      <th>30 and Older</th>\n",
       "    </tr>\n",
       "  </thead>\n",
       "  <tbody>\n",
       "    <tr>\n",
       "      <th>0</th>\n",
       "      <td>No</td>\n",
       "      <td>Yes</td>\n",
       "    </tr>\n",
       "    <tr>\n",
       "      <th>1</th>\n",
       "      <td>Yes</td>\n",
       "      <td>No</td>\n",
       "    </tr>\n",
       "    <tr>\n",
       "      <th>2</th>\n",
       "      <td>Yes</td>\n",
       "      <td>Yes</td>\n",
       "    </tr>\n",
       "    <tr>\n",
       "      <th>3</th>\n",
       "      <td>Yes</td>\n",
       "      <td>No</td>\n",
       "    </tr>\n",
       "    <tr>\n",
       "      <th>4</th>\n",
       "      <td>Yes</td>\n",
       "      <td>No</td>\n",
       "    </tr>\n",
       "    <tr>\n",
       "      <th>...</th>\n",
       "      <td>...</td>\n",
       "      <td>...</td>\n",
       "    </tr>\n",
       "    <tr>\n",
       "      <th>195</th>\n",
       "      <td>NaN</td>\n",
       "      <td>Yes</td>\n",
       "    </tr>\n",
       "    <tr>\n",
       "      <th>196</th>\n",
       "      <td>NaN</td>\n",
       "      <td>Yes</td>\n",
       "    </tr>\n",
       "    <tr>\n",
       "      <th>197</th>\n",
       "      <td>NaN</td>\n",
       "      <td>Yes</td>\n",
       "    </tr>\n",
       "    <tr>\n",
       "      <th>198</th>\n",
       "      <td>NaN</td>\n",
       "      <td>Yes</td>\n",
       "    </tr>\n",
       "    <tr>\n",
       "      <th>199</th>\n",
       "      <td>NaN</td>\n",
       "      <td>No</td>\n",
       "    </tr>\n",
       "  </tbody>\n",
       "</table>\n",
       "<p>200 rows × 2 columns</p>\n",
       "</div>"
      ],
      "text/plain": [
       "    Under 30 30 and Older\n",
       "0         No          Yes\n",
       "1        Yes           No\n",
       "2        Yes          Yes\n",
       "3        Yes           No\n",
       "4        Yes           No\n",
       "..       ...          ...\n",
       "195      NaN          Yes\n",
       "196      NaN          Yes\n",
       "197      NaN          Yes\n",
       "198      NaN          Yes\n",
       "199      NaN           No\n",
       "\n",
       "[200 rows x 2 columns]"
      ]
     },
     "metadata": {},
     "output_type": "display_data"
    },
    {
     "name": "stdout",
     "output_type": "stream",
     "text": [
      "0.7266666666666667\n",
      "0.545\n"
     ]
    }
   ],
   "source": [
    "data = 'ComputerNews.xlsx'\n",
    "data = pd.read_excel(data)\n",
    "display(data)\n",
    "\n",
    "summ1 = 0\n",
    "\n",
    "n1 = 150\n",
    "n2 = 200\n",
    "\n",
    "for i in data['Under 30']:\n",
    "    if i == 'Yes':\n",
    "        summ1 += 1\n",
    "        \n",
    "p_under = summ1/n1\n",
    "\n",
    "print(p_under)\n",
    "\n",
    "summ2 = 0\n",
    "\n",
    "for i in data['30 and Older']:\n",
    "    if i == 'Yes':\n",
    "        summ2 += 1\n",
    "        \n",
    "p_over = summ2/n2\n",
    "\n",
    "print(p_over)"
   ]
  },
  {
   "cell_type": "code",
   "execution_count": null,
   "id": "53b19f81",
   "metadata": {},
   "outputs": [],
   "source": []
  },
  {
   "cell_type": "code",
   "execution_count": null,
   "id": "ff59574a",
   "metadata": {},
   "outputs": [],
   "source": []
  },
  {
   "cell_type": "code",
   "execution_count": null,
   "id": "5f0f722c",
   "metadata": {},
   "outputs": [],
   "source": []
  }
 ],
 "metadata": {
  "kernelspec": {
   "display_name": "Python 3 (ipykernel)",
   "language": "python",
   "name": "python3"
  },
  "language_info": {
   "codemirror_mode": {
    "name": "ipython",
    "version": 3
   },
   "file_extension": ".py",
   "mimetype": "text/x-python",
   "name": "python",
   "nbconvert_exporter": "python",
   "pygments_lexer": "ipython3",
   "version": "3.9.6"
  }
 },
 "nbformat": 4,
 "nbformat_minor": 5
}
