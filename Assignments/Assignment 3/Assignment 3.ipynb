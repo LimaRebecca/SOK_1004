{
 "cells": [
  {
   "cell_type": "code",
   "execution_count": 1,
   "id": "9cb7a7d7",
   "metadata": {},
   "outputs": [],
   "source": [
    "import numpy as np # Working with vectors and arrays\n",
    "import matplotlib.pyplot as plt # Standard module for plotting and visualization\n",
    "import scipy.stats as stats # Scientific algorithms & basic statistics \n",
    "import pandas as pd # Adds DataFrames to Python (powerful spreadsheets)\n",
    "import seaborn as sns # Visualization of statistical data\n",
    "import statsmodels.formula.api as sm # Provides classes and functions for many statistical models"
   ]
  },
  {
   "cell_type": "markdown",
   "id": "2234f1a4",
   "metadata": {},
   "source": [
    "# Task 59"
   ]
  },
  {
   "cell_type": "code",
   "execution_count": 16,
   "id": "fd809edb",
   "metadata": {},
   "outputs": [
    {
     "name": "stdout",
     "output_type": "stream",
     "text": [
      "E(x) = 1.3529999999999998\n",
      "Var(x) = 0.6883909999999999\n",
      "SD = 0.8296933168345999\n"
     ]
    }
   ],
   "source": [
    "#a\n",
    "data = [(0, 0.096), (1,0.570), (2,0.238), (3,0.077), (4,0.019)]\n",
    "\n",
    "#b\n",
    "exp = 0\n",
    "\n",
    "for i in data:\n",
    "    exp += i[0] * i[1]\n",
    "    \n",
    "print(\"E(x) =\", exp)\n",
    "\n",
    "#c\n",
    "var = 0\n",
    "\n",
    "for i in data:\n",
    "    var += ((i[0] - exp)**2)*i[1]\n",
    "    \n",
    "\n",
    "sd = np.sqrt(var)\n",
    "    \n",
    "print(\"Var(x) =\", var)\n",
    "print(\"SD =\", sd)"
   ]
  },
  {
   "cell_type": "markdown",
   "id": "6180f230",
   "metadata": {},
   "source": [
    "# Task 62"
   ]
  },
  {
   "cell_type": "code",
   "execution_count": 29,
   "id": "9eb34be3",
   "metadata": {},
   "outputs": [
    {
     "name": "stdout",
     "output_type": "stream",
     "text": [
      "E(x) = 1.1400000000000001\n",
      "Var(x) = 0.3804\n",
      "SD(x) = 0.616765757804371\n",
      "E(y) = 0.5\n",
      "Var(y) = 0.44999999999999996\n",
      "SD(y) = 0.6708203932499369\n",
      "E(t) = 1.6400000000000001\n",
      "Var(t) = 0.5504\n",
      "SD(t) = 0.7418894796396563\n",
      "Covariance = -0.13999999999999999\n",
      "Correlation = 1.7931338192009907\n"
     ]
    }
   ],
   "source": [
    "#b\n",
    "X = [(0,0.130), (1, 0.600), (2, 0.270)]\n",
    "\n",
    "exp_x = 0\n",
    "var_x = 0\n",
    "\n",
    "for x in X:\n",
    "    exp_x += x[0]*x[1]\n",
    "\n",
    "for x in X:\n",
    "    var_x += ((x[0] - exp_x)**2)*x[1]\n",
    "    \n",
    "sd_x = np.sqrt(var_x)\n",
    "\n",
    "print(\"E(x) =\", exp_x)\n",
    "print(\"Var(x) =\", var_x)\n",
    "print(\"SD(x) =\", sd_x)\n",
    "\n",
    "\n",
    "#c\n",
    "Y = [(0,0.600), (1, 0.300), (2, 0.100)]\n",
    "\n",
    "exp_y = 0\n",
    "var_y = 0\n",
    "\n",
    "for y in Y:\n",
    "    exp_y += y[0]*y[1]\n",
    "\n",
    "for y in Y:\n",
    "    var_y += ((y[0] - exp_y)**2)*y[1]\n",
    "    \n",
    "sd_y = np.sqrt(var_y)\n",
    "\n",
    "print(\"E(y) =\", exp_y)\n",
    "print(\"Var(y) =\", var_y)\n",
    "print(\"SD(y) =\", sd_y)\n",
    "\n",
    "#d\n",
    "T = [(0, 0.000), (1, 0.500), (2, 0.380), (3, 0.100), (4, 0.020)]\n",
    "\n",
    "exp_t = 0\n",
    "var_t = 0\n",
    "\n",
    "for t in T:\n",
    "    exp_t += t[0]*t[1]\n",
    "\n",
    "for t in T:\n",
    "    var_t += ((t[0] - exp_t)**2)*t[1]\n",
    "    \n",
    "sd_t = np.sqrt(var_t)\n",
    "\n",
    "print(\"E(t) =\", exp_t)\n",
    "print(\"Var(t) =\", var_t)\n",
    "print(\"SD(t) =\", sd_t)\n",
    "\n",
    "#e\n",
    "cov_xy = (var_t - var_x - var_y)/2\n",
    "p_xy = sd_t/(sd_x*sd_y)\n",
    "\n",
    "print(\"Covariance =\", cov_xy)\n",
    "print(\"Correlation =\", p_xy)"
   ]
  },
  {
   "cell_type": "markdown",
   "id": "9201c8e8",
   "metadata": {},
   "source": [
    "# Task 64"
   ]
  },
  {
   "cell_type": "code",
   "execution_count": 48,
   "id": "28b835b1",
   "metadata": {},
   "outputs": [
    {
     "name": "stdout",
     "output_type": "stream",
     "text": [
      "P(X=3) = 0.0004522681921415579\n",
      "P(X >= 5) = 0.495181489828287\n",
      "Exp_c = 980.0\n",
      "Exp_d = 720.0\n",
      "Var_d = 460.8\n",
      "SD_d = 21.46625258399798\n"
     ]
    }
   ],
   "source": [
    "#a\n",
    "\n",
    "P_equals_3 = stats.binom.pmf(k=3, n=20, p=0.53)\n",
    "\n",
    "print('P(X=3) =',P_X_3)\n",
    "\n",
    "\n",
    "#b\n",
    "P_5_or_fewer = stats.binom.cdf(k=5, n=20, p=0.28)\n",
    "\n",
    "print('P(X >= 5) =',P_5_or_fewer)\n",
    "\n",
    "#c\n",
    "n = 2000\n",
    "p = 0.49\n",
    "exp_c = n*p\n",
    "\n",
    "print('Exp_c =', exp_c)\n",
    "\n",
    "#d\n",
    "n= 2000\n",
    "p = 0.36\n",
    "exp_d = n*p\n",
    "var_d = exp_d*(1-p)\n",
    "sd_d = np.sqrt(var_d)\n",
    "\n",
    "print('Exp_d =', exp_d)\n",
    "print('Var_d =', var_d)\n",
    "print('SD_d =', sd_d)"
   ]
  },
  {
   "cell_type": "markdown",
   "id": "55ad14a8",
   "metadata": {},
   "source": [
    "# Task 66"
   ]
  },
  {
   "cell_type": "code",
   "execution_count": 52,
   "id": "b2ea7386",
   "metadata": {},
   "outputs": [
    {
     "name": "stdout",
     "output_type": "stream",
     "text": [
      "P(X=0) = 0.9509900498999999\n",
      "P(X=1) = 0.0480298005\n",
      "P(X >= 1) = 0.04900995010000009\n"
     ]
    }
   ],
   "source": [
    "#a\n",
    "\n",
    "P_x_equals_0 = stats.binom.pmf(k=0, n=5, p=0.01)\n",
    "\n",
    "print('P(X=0) =',P_x_equals_0)\n",
    "\n",
    "#b\n",
    "\n",
    "P_x_equals_1 = stats.binom.pmf(k=1, n=5, p=0.01)\n",
    "\n",
    "print('P(X=1) =',P_x_equals_1)\n",
    "\n",
    "#c\n",
    "P_x_one_or_more = 1 - P_x_equals_0\n",
    "\n",
    "print('P(X >= 1) =', P_x_one_or_more)\n"
   ]
  },
  {
   "cell_type": "markdown",
   "id": "15be552e",
   "metadata": {},
   "source": [
    "# Task 68"
   ]
  },
  {
   "cell_type": "code",
   "execution_count": 62,
   "id": "230ffadc",
   "metadata": {},
   "outputs": [
    {
     "name": "stdout",
     "output_type": "stream",
     "text": [
      "E(x) = 47.0\n",
      "sd_x = 5.996248827392005\n",
      "E(y) = 153.0\n",
      "sd_y = 5.996248827392005\n"
     ]
    }
   ],
   "source": [
    "#a\n",
    "n = 200\n",
    "p = 0.235\n",
    "\n",
    "exp_x = n*p\n",
    "\n",
    "print(\"E(x) =\", exp_x)\n",
    "\n",
    "#b\n",
    "var_x = exp_x*(1-p)\n",
    "sd_x = np.sqrt(var_x)\n",
    "\n",
    "print(\"sd_x =\", sd_x)\n",
    "\n",
    "#c\n",
    "exp_y = n*(1-p)\n",
    "var_y = exp_y*p\n",
    "sd_y = np.sqrt(var_y)\n",
    "\n",
    "\n",
    "print(\"E(y) =\", exp_y)\n",
    "print(\"sd_y =\", sd_y)"
   ]
  }
 ],
 "metadata": {
  "kernelspec": {
   "display_name": "Python 3 (ipykernel)",
   "language": "python",
   "name": "python3"
  },
  "language_info": {
   "codemirror_mode": {
    "name": "ipython",
    "version": 3
   },
   "file_extension": ".py",
   "mimetype": "text/x-python",
   "name": "python",
   "nbconvert_exporter": "python",
   "pygments_lexer": "ipython3",
   "version": "3.9.6"
  }
 },
 "nbformat": 4,
 "nbformat_minor": 5
}
